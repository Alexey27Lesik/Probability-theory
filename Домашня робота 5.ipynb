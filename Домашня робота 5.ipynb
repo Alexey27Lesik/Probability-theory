{
 "cells": [
  {
   "cell_type": "markdown",
   "metadata": {},
   "source": [
    "# Домашня робота №5"
   ]
  },
  {
   "cell_type": "markdown",
   "metadata": {},
   "source": [
    "# Неперервні розподіли"
   ]
  },
  {
   "cell_type": "code",
   "execution_count": 1,
   "metadata": {
    "collapsed": true
   },
   "outputs": [],
   "source": [
    "import numpy as np\n",
    "import matplotlib.pyplot as plt"
   ]
  },
  {
   "cell_type": "markdown",
   "metadata": {},
   "source": [
    "## 1 Логнормальний розподіл"
   ]
  },
  {
   "cell_type": "markdown",
   "metadata": {},
   "source": [
    "Більш детальна інформація в [документації](https://docs.scipy.org/doc/scipy/reference/generated/scipy.stats.lognorm.html)."
   ]
  },
  {
   "cell_type": "code",
   "execution_count": 2,
   "metadata": {
    "collapsed": true
   },
   "outputs": [],
   "source": [
    "from scipy.stats import lognorm"
   ]
  },
  {
   "cell_type": "markdown",
   "metadata": {},
   "source": [
    "Випадкова велиина $Y$ має логнормальний розподіл, якщо $Y = \\exp \\left\\{ X \\right\\}$, де $X$ - випадкова величина з нормального розподілу."
   ]
  },
  {
   "cell_type": "code",
   "execution_count": 3,
   "metadata": {
    "collapsed": true
   },
   "outputs": [],
   "source": [
    "mu = 0\n",
    "sigma = 1"
   ]
  },
  {
   "cell_type": "markdown",
   "metadata": {},
   "source": [
    "Параметри $s, loc, scale$ відповідають логнормальному розподілу зі щільністю $$f(x) = \\frac{1}{s (x - loc) \\sqrt{2 \\pi}} \\exp \\left\\{ -\\frac{1}{2 s^2} \\log^2 \\left( \\frac{x - loc}{scale} \\right) \\right\\}.$$"
   ]
  },
  {
   "cell_type": "code",
   "execution_count": 4,
   "metadata": {},
   "outputs": [],
   "source": [
    "s = sigma\n",
    "loc = 0\n",
    "scale = np.exp(mu)"
   ]
  },
  {
   "cell_type": "markdown",
   "metadata": {},
   "source": [
    "### 1.1 Щільність"
   ]
  },
  {
   "cell_type": "code",
   "execution_count": 5,
   "metadata": {
    "collapsed": true
   },
   "outputs": [],
   "source": [
    "x1 = np.arange(-1, 5, 0.1)"
   ]
  },
  {
   "cell_type": "markdown",
   "metadata": {},
   "source": [
    "Виведіть значення функції щільності логнормального розподілу з параметрами $s, loc, scale$ в точках вектора $x1$."
   ]
  },
  {
   "cell_type": "code",
   "execution_count": 6,
   "metadata": {},
   "outputs": [],
   "source": [
    "from scipy.stats import lognorm\n",
    "import numpy as np\n",
    "x1 = np.arange(-1, 5, 0.1)\n",
    "mu = 0\n",
    "sigma = 1\n",
    "s = sigma\n",
    "loc = 0\n",
    "scale = np.exp(mu)\n",
    "y = lognorm.pdf(x1,s,loc,scale)\n",
    "print(y)\n"
   ]
  },
  {
   "cell_type": "markdown",
   "metadata": {},
   "source": [
    "Зобразіть графічно значення функції щільності логнормального розподілу з параметрами $s, loc, scale$ в точках вектора $x2$."
   ]
  },
  {
   "cell_type": "code",
   "execution_count": 7,
   "metadata": {
    "collapsed": true
   },
   "outputs": [],
   "source": [
    "x2 = np.arange(-1, 5.01, 0.01)"
   ]
  },
  {
   "cell_type": "code",
   "execution_count": 1,
   "metadata": {
    "scrolled": true
   },
   "outputs": [
    {
     "ename": "KeyboardInterrupt",
     "evalue": "",
     "output_type": "error",
     "traceback": [
      "\u001b[1;31m---------------------------------------------------------------------------\u001b[0m",
      "\u001b[1;31mKeyboardInterrupt\u001b[0m                         Traceback (most recent call last)",
      "\u001b[1;32m<ipython-input-1-b2f1c695a7bc>\u001b[0m in \u001b[0;36m<module>\u001b[1;34m\u001b[0m\n\u001b[1;32m----> 1\u001b[1;33m \u001b[1;32mimport\u001b[0m \u001b[0mmatplotlib\u001b[0m\u001b[1;33m.\u001b[0m\u001b[0mpyplot\u001b[0m \u001b[1;32mas\u001b[0m \u001b[0mplt\u001b[0m\u001b[1;33m\u001b[0m\u001b[1;33m\u001b[0m\u001b[0m\n\u001b[0m\u001b[0;32m      2\u001b[0m \u001b[0mx2\u001b[0m \u001b[1;33m=\u001b[0m \u001b[0mnp\u001b[0m\u001b[1;33m.\u001b[0m\u001b[0marange\u001b[0m\u001b[1;33m(\u001b[0m\u001b[1;33m-\u001b[0m\u001b[1;36m1\u001b[0m\u001b[1;33m,\u001b[0m \u001b[1;36m5.01\u001b[0m\u001b[1;33m,\u001b[0m \u001b[1;36m0.01\u001b[0m\u001b[1;33m)\u001b[0m\u001b[1;33m\u001b[0m\u001b[1;33m\u001b[0m\u001b[0m\n\u001b[0;32m      3\u001b[0m \u001b[0mmu\u001b[0m \u001b[1;33m=\u001b[0m \u001b[1;36m0\u001b[0m\u001b[1;33m\u001b[0m\u001b[1;33m\u001b[0m\u001b[0m\n\u001b[0;32m      4\u001b[0m \u001b[0msigma\u001b[0m \u001b[1;33m=\u001b[0m \u001b[1;36m1\u001b[0m\u001b[1;33m\u001b[0m\u001b[1;33m\u001b[0m\u001b[0m\n\u001b[0;32m      5\u001b[0m \u001b[0ms\u001b[0m \u001b[1;33m=\u001b[0m \u001b[0msigma\u001b[0m\u001b[1;33m\u001b[0m\u001b[1;33m\u001b[0m\u001b[0m\n",
      "\u001b[1;32mC:\\ProgramData\\Anaconda3\\lib\\site-packages\\matplotlib\\__init__.py\u001b[0m in \u001b[0;36m<module>\u001b[1;34m\u001b[0m\n\u001b[0;32m    139\u001b[0m \u001b[1;31m# cbook must import matplotlib only within function\u001b[0m\u001b[1;33m\u001b[0m\u001b[1;33m\u001b[0m\u001b[1;33m\u001b[0m\u001b[0m\n\u001b[0;32m    140\u001b[0m \u001b[1;31m# definitions, so it is safe to import from it here.\u001b[0m\u001b[1;33m\u001b[0m\u001b[1;33m\u001b[0m\u001b[1;33m\u001b[0m\u001b[0m\n\u001b[1;32m--> 141\u001b[1;33m \u001b[1;32mfrom\u001b[0m \u001b[1;33m.\u001b[0m \u001b[1;32mimport\u001b[0m \u001b[0mcbook\u001b[0m\u001b[1;33m,\u001b[0m \u001b[0mrcsetup\u001b[0m\u001b[1;33m\u001b[0m\u001b[1;33m\u001b[0m\u001b[0m\n\u001b[0m\u001b[0;32m    142\u001b[0m from matplotlib.cbook import (\n\u001b[0;32m    143\u001b[0m     MatplotlibDeprecationWarning, dedent, get_label, sanitize_sequence)\n",
      "\u001b[1;32mC:\\ProgramData\\Anaconda3\\lib\\site-packages\\matplotlib\\cbook\\__init__.py\u001b[0m in \u001b[0;36m<module>\u001b[1;34m\u001b[0m\n\u001b[0;32m     31\u001b[0m \u001b[1;32mfrom\u001b[0m \u001b[0mweakref\u001b[0m \u001b[1;32mimport\u001b[0m \u001b[0mWeakMethod\u001b[0m\u001b[1;33m\u001b[0m\u001b[1;33m\u001b[0m\u001b[0m\n\u001b[0;32m     32\u001b[0m \u001b[1;33m\u001b[0m\u001b[0m\n\u001b[1;32m---> 33\u001b[1;33m \u001b[1;32mimport\u001b[0m \u001b[0mnumpy\u001b[0m \u001b[1;32mas\u001b[0m \u001b[0mnp\u001b[0m\u001b[1;33m\u001b[0m\u001b[1;33m\u001b[0m\u001b[0m\n\u001b[0m\u001b[0;32m     34\u001b[0m \u001b[1;33m\u001b[0m\u001b[0m\n\u001b[0;32m     35\u001b[0m \u001b[1;32mimport\u001b[0m \u001b[0mmatplotlib\u001b[0m\u001b[1;33m\u001b[0m\u001b[1;33m\u001b[0m\u001b[0m\n",
      "\u001b[1;32mC:\\ProgramData\\Anaconda3\\lib\\site-packages\\numpy\\__init__.py\u001b[0m in \u001b[0;36m<module>\u001b[1;34m\u001b[0m\n\u001b[0;32m    140\u001b[0m         \u001b[1;32mreturn\u001b[0m \u001b[0mloader\u001b[0m\u001b[1;33m(\u001b[0m\u001b[1;33m*\u001b[0m\u001b[0mpackages\u001b[0m\u001b[1;33m,\u001b[0m \u001b[1;33m**\u001b[0m\u001b[0moptions\u001b[0m\u001b[1;33m)\u001b[0m\u001b[1;33m\u001b[0m\u001b[1;33m\u001b[0m\u001b[0m\n\u001b[0;32m    141\u001b[0m \u001b[1;33m\u001b[0m\u001b[0m\n\u001b[1;32m--> 142\u001b[1;33m     \u001b[1;32mfrom\u001b[0m \u001b[1;33m.\u001b[0m \u001b[1;32mimport\u001b[0m \u001b[0madd_newdocs\u001b[0m\u001b[1;33m\u001b[0m\u001b[1;33m\u001b[0m\u001b[0m\n\u001b[0m\u001b[0;32m    143\u001b[0m     __all__ = ['add_newdocs',\n\u001b[0;32m    144\u001b[0m                \u001b[1;34m'ModuleDeprecationWarning'\u001b[0m\u001b[1;33m,\u001b[0m\u001b[1;33m\u001b[0m\u001b[1;33m\u001b[0m\u001b[0m\n",
      "\u001b[1;32mC:\\ProgramData\\Anaconda3\\lib\\site-packages\\numpy\\add_newdocs.py\u001b[0m in \u001b[0;36m<module>\u001b[1;34m\u001b[0m\n\u001b[0;32m     11\u001b[0m \u001b[1;32mfrom\u001b[0m \u001b[0m__future__\u001b[0m \u001b[1;32mimport\u001b[0m \u001b[0mdivision\u001b[0m\u001b[1;33m,\u001b[0m \u001b[0mabsolute_import\u001b[0m\u001b[1;33m,\u001b[0m \u001b[0mprint_function\u001b[0m\u001b[1;33m\u001b[0m\u001b[1;33m\u001b[0m\u001b[0m\n\u001b[0;32m     12\u001b[0m \u001b[1;33m\u001b[0m\u001b[0m\n\u001b[1;32m---> 13\u001b[1;33m \u001b[1;32mfrom\u001b[0m \u001b[0mnumpy\u001b[0m\u001b[1;33m.\u001b[0m\u001b[0mlib\u001b[0m \u001b[1;32mimport\u001b[0m \u001b[0madd_newdoc\u001b[0m\u001b[1;33m\u001b[0m\u001b[1;33m\u001b[0m\u001b[0m\n\u001b[0m\u001b[0;32m     14\u001b[0m \u001b[1;33m\u001b[0m\u001b[0m\n\u001b[0;32m     15\u001b[0m \u001b[1;31m###############################################################################\u001b[0m\u001b[1;33m\u001b[0m\u001b[1;33m\u001b[0m\u001b[1;33m\u001b[0m\u001b[0m\n",
      "\u001b[1;32mC:\\ProgramData\\Anaconda3\\lib\\site-packages\\numpy\\lib\\__init__.py\u001b[0m in \u001b[0;36m<module>\u001b[1;34m\u001b[0m\n\u001b[0;32m      7\u001b[0m \u001b[1;33m\u001b[0m\u001b[0m\n\u001b[0;32m      8\u001b[0m \u001b[1;32mfrom\u001b[0m \u001b[1;33m.\u001b[0m\u001b[0mtype_check\u001b[0m \u001b[1;32mimport\u001b[0m \u001b[1;33m*\u001b[0m\u001b[1;33m\u001b[0m\u001b[1;33m\u001b[0m\u001b[0m\n\u001b[1;32m----> 9\u001b[1;33m \u001b[1;32mfrom\u001b[0m \u001b[1;33m.\u001b[0m\u001b[0mindex_tricks\u001b[0m \u001b[1;32mimport\u001b[0m \u001b[1;33m*\u001b[0m\u001b[1;33m\u001b[0m\u001b[1;33m\u001b[0m\u001b[0m\n\u001b[0m\u001b[0;32m     10\u001b[0m \u001b[1;32mfrom\u001b[0m \u001b[1;33m.\u001b[0m\u001b[0mfunction_base\u001b[0m \u001b[1;32mimport\u001b[0m \u001b[1;33m*\u001b[0m\u001b[1;33m\u001b[0m\u001b[1;33m\u001b[0m\u001b[0m\n\u001b[0;32m     11\u001b[0m \u001b[1;32mfrom\u001b[0m \u001b[1;33m.\u001b[0m\u001b[0mmixins\u001b[0m \u001b[1;32mimport\u001b[0m \u001b[1;33m*\u001b[0m\u001b[1;33m\u001b[0m\u001b[1;33m\u001b[0m\u001b[0m\n",
      "\u001b[1;32mC:\\ProgramData\\Anaconda3\\lib\\site-packages\\numpy\\lib\\index_tricks.py\u001b[0m in \u001b[0;36m<module>\u001b[1;34m\u001b[0m\n\u001b[0;32m     10\u001b[0m \u001b[1;32mfrom\u001b[0m \u001b[0mnumpy\u001b[0m\u001b[1;33m.\u001b[0m\u001b[0mcore\u001b[0m\u001b[1;33m.\u001b[0m\u001b[0mnumerictypes\u001b[0m \u001b[1;32mimport\u001b[0m \u001b[0mfind_common_type\u001b[0m\u001b[1;33m,\u001b[0m \u001b[0missubdtype\u001b[0m\u001b[1;33m\u001b[0m\u001b[1;33m\u001b[0m\u001b[0m\n\u001b[0;32m     11\u001b[0m \u001b[1;33m\u001b[0m\u001b[0m\n\u001b[1;32m---> 12\u001b[1;33m \u001b[1;32mfrom\u001b[0m \u001b[1;33m.\u001b[0m \u001b[1;32mimport\u001b[0m \u001b[0mfunction_base\u001b[0m\u001b[1;33m\u001b[0m\u001b[1;33m\u001b[0m\u001b[0m\n\u001b[0m\u001b[0;32m     13\u001b[0m \u001b[1;32mimport\u001b[0m \u001b[0mnumpy\u001b[0m\u001b[1;33m.\u001b[0m\u001b[0mmatrixlib\u001b[0m \u001b[1;32mas\u001b[0m \u001b[0mmatrixlib\u001b[0m\u001b[1;33m\u001b[0m\u001b[1;33m\u001b[0m\u001b[0m\n\u001b[0;32m     14\u001b[0m \u001b[1;32mfrom\u001b[0m \u001b[1;33m.\u001b[0m\u001b[0mfunction_base\u001b[0m \u001b[1;32mimport\u001b[0m \u001b[0mdiff\u001b[0m\u001b[1;33m\u001b[0m\u001b[1;33m\u001b[0m\u001b[0m\n",
      "\u001b[1;32mC:\\ProgramData\\Anaconda3\\lib\\importlib\\_bootstrap.py\u001b[0m in \u001b[0;36m_find_and_load\u001b[1;34m(name, import_)\u001b[0m\n",
      "\u001b[1;32mC:\\ProgramData\\Anaconda3\\lib\\importlib\\_bootstrap.py\u001b[0m in \u001b[0;36m_find_and_load_unlocked\u001b[1;34m(name, import_)\u001b[0m\n",
      "\u001b[1;32mC:\\ProgramData\\Anaconda3\\lib\\importlib\\_bootstrap.py\u001b[0m in \u001b[0;36m_load_unlocked\u001b[1;34m(spec)\u001b[0m\n",
      "\u001b[1;32mC:\\ProgramData\\Anaconda3\\lib\\importlib\\_bootstrap_external.py\u001b[0m in \u001b[0;36mexec_module\u001b[1;34m(self, module)\u001b[0m\n",
      "\u001b[1;32mC:\\ProgramData\\Anaconda3\\lib\\importlib\\_bootstrap_external.py\u001b[0m in \u001b[0;36mget_code\u001b[1;34m(self, fullname)\u001b[0m\n",
      "\u001b[1;32mC:\\ProgramData\\Anaconda3\\lib\\importlib\\_bootstrap_external.py\u001b[0m in \u001b[0;36msource_to_code\u001b[1;34m(self, data, path, _optimize)\u001b[0m\n",
      "\u001b[1;31mKeyboardInterrupt\u001b[0m: "
     ]
    }
   ],
   "source": [
    "import matplotlib.pyplot as plt\n",
    "x2 = np.arange(-1, 5.01, 0.01)\n",
    "mu = 0\n",
    "sigma = 1\n",
    "s = sigma\n",
    "loc = 0\n",
    "scale = np.exp(mu)\n",
    "y = lognorm.pdf(x2,s,loc,scale)\n",
    "plt.plot(x2,y)\n",
    "plt.show()\n"
   ]
  },
  {
   "cell_type": "markdown",
   "metadata": {},
   "source": [
    "### 1.2 Функція розподілу"
   ]
  },
  {
   "cell_type": "markdown",
   "metadata": {},
   "source": [
    "Виведіть значення функції розподілу логнормального розподілу з параметрами $s, loc, scale$ в точках вектора $x1$."
   ]
  },
  {
   "cell_type": "code",
   "execution_count": 9,
   "metadata": {},
   "outputs": [],
   "source": [
    "x1 = np.arange(-1, 5, 0.1)\n",
    "mu = 0\n",
    "sigma = 1\n",
    "\n",
    "s = sigma\n",
    "loc = 0\n",
    "scale = np.exp(mu)\n",
    "y = lognorm.cdf(x1,s,loc,scale)\n",
    "print(y)\n"
   ]
  },
  {
   "cell_type": "markdown",
   "metadata": {},
   "source": [
    "Зобразіть графічно значення функції розподілу логнормального розподілу з параметрами $s, loc, scale$ в точках вектора $x2$."
   ]
  },
  {
   "cell_type": "code",
   "execution_count": 10,
   "metadata": {},
   "outputs": [],
   "source": [
    "x2 = np.arange(-1, 5.01, 0.01)\n",
    "mu = 0\n",
    "sigma = 1\n",
    "s = sigma\n",
    "loc = 0\n",
    "scale = np.exp(mu)\n",
    "y = lognorm.cdf(x2,s,loc,scale)\n",
    "plt.plot(x2,y, 'r')\n",
    "plt.show()\n"
   ]
  },
  {
   "cell_type": "markdown",
   "metadata": {},
   "source": [
    "### 1.3 Випадкові величини"
   ]
  },
  {
   "cell_type": "markdown",
   "metadata": {},
   "source": [
    "Згенеруйте $100$ випадкових величин з логнормального розподілу з параметрами $s, loc, scale$."
   ]
  },
  {
   "cell_type": "code",
   "execution_count": 11,
   "metadata": {},
   "outputs": [],
   "source": [
    "mu = 0\n",
    "sigma = 1\n",
    "s = sigma\n",
    "loc = 0\n",
    "scale = np.exp(mu)\n",
    "y = lognorm.rvs(s,loc,scale,size = 100)\n",
    "print(y)\n"
   ]
  },
  {
   "cell_type": "markdown",
   "metadata": {},
   "source": [
    "Зобразіть гістограму $10000$ випадкових величин з логнормального розподілу з параметрами $s, loc, scale$."
   ]
  },
  {
   "cell_type": "code",
   "execution_count": 12,
   "metadata": {},
   "outputs": [],
   "source": [
    "fig, axs = plt.subplots(1,1)\n",
    "y = lognorm.rvs(s, loc, scale, size=10000)\n",
    "axs.hist(y, bins = 200, color = 'r')\n",
    "axs.set_xlim(-1, 16)\n",
    "plt.show()\n"
   ]
  },
  {
   "cell_type": "markdown",
   "metadata": {},
   "source": [
    "Зобразіть графік функції щільності та нормовану гістограму $100000$ випадкових величин з логнормального розподілу з параметрами $s, loc, scale$. Поексперементуйте з аргументом $bins$ функції `hist`."
   ]
  },
  {
   "cell_type": "code",
   "execution_count": 13,
   "metadata": {
    "scrolled": true
   },
   "outputs": [],
   "source": [
    "fig, axs = plt.subplots(1,1)\n",
    "x1 = np.arange(-1, 10, 0.01)\n",
    "y = lognorm.pdf(x1,s,loc,scale)\n",
    "y1 = lognorm.rvs(s,loc,scale, size=100000)\n",
    "\n",
    "plt.hist(y1, normed = True, bins = 200)\n",
    "plt.plot(x1,y, 'r')\n",
    "axs.set_xlim(-1, 14)       \n",
    "plt.show()"
   ]
  },
  {
   "cell_type": "markdown",
   "metadata": {},
   "source": [
    "## 2 Бета розподіл"
   ]
  },
  {
   "cell_type": "markdown",
   "metadata": {},
   "source": [
    "Більш детальна інформація в [документації](https://docs.scipy.org/doc/scipy/reference/generated/scipy.stats.beta.html)."
   ]
  },
  {
   "cell_type": "code",
   "execution_count": 14,
   "metadata": {
    "collapsed": true
   },
   "outputs": [],
   "source": [
    "from scipy.stats import beta"
   ]
  },
  {
   "cell_type": "code",
   "execution_count": 15,
   "metadata": {
    "collapsed": true
   },
   "outputs": [],
   "source": [
    "a = 2\n",
    "b = 1.1"
   ]
  },
  {
   "cell_type": "markdown",
   "metadata": {},
   "source": [
    "Параметри $loc, scale$ відповідають бета розподілу зі щільністю $$f(x) = \\frac{\\Gamma(\\alpha + \\beta)}{\\Gamma(\\alpha) \\Gamma(\\beta) \\, scale} \\left( \\frac{x - loc}{scale} \\right)^{\\alpha - 1} \\left( 1 - \\frac{x - loc}{scale} \\right)^{\\beta - 1}.$$"
   ]
  },
  {
   "cell_type": "code",
   "execution_count": 16,
   "metadata": {
    "collapsed": true
   },
   "outputs": [],
   "source": [
    "loc = 0\n",
    "scale = 1"
   ]
  },
  {
   "cell_type": "markdown",
   "metadata": {},
   "source": [
    "### 2.1 Щільність"
   ]
  },
  {
   "cell_type": "code",
   "execution_count": 17,
   "metadata": {
    "collapsed": true
   },
   "outputs": [],
   "source": [
    "x1 = np.arange(-1, 2.1, 0.1)"
   ]
  },
  {
   "cell_type": "markdown",
   "metadata": {},
   "source": [
    "Виведіть значення функції щільності бета розподілу з параметрами $a, b, loc, scale$ в точках вектора $x1$."
   ]
  },
  {
   "cell_type": "code",
   "execution_count": 18,
   "metadata": {},
   "outputs": [],
   "source": [
    "from scipy.stats import beta\n",
    "import numpy as np\n",
    "a = 2\n",
    "b = 1.1\n",
    "loc = 0\n",
    "scale = 1\n",
    "x1 = np.arange(-1, 2.1, 0.1)\n",
    "y = beta.pdf(x1,a,b,loc,scale)\n",
    "print(y)"
   ]
  },
  {
   "cell_type": "markdown",
   "metadata": {},
   "source": [
    "Зобразіть графічно значення функції щільності бета розподілу з параметрами $a, b, loc, scale$ в точках вектора $x2$."
   ]
  },
  {
   "cell_type": "code",
   "execution_count": 19,
   "metadata": {
    "collapsed": true
   },
   "outputs": [],
   "source": [
    "x2 = np.arange(-1, 2.01, 0.01)"
   ]
  },
  {
   "cell_type": "code",
   "execution_count": 20,
   "metadata": {},
   "outputs": [],
   "source": [
    "import matplotlib.pyplot as plt\n",
    "x2 = np.arange(-1, 2.01, 0.01)\n",
    "y = beta.pdf(x2,a,b,loc,scale)\n",
    "plt.plot(x2,y, 'r')\n",
    "plt.show()"
   ]
  },
  {
   "cell_type": "markdown",
   "metadata": {},
   "source": [
    "### 2.2 Функція розподілу"
   ]
  },
  {
   "cell_type": "markdown",
   "metadata": {},
   "source": [
    "Виведіть значення функції розподілу бета розподілу з параметрами $a, b, loc, scale$ в точках вектора $x1$."
   ]
  },
  {
   "cell_type": "code",
   "execution_count": 21,
   "metadata": {},
   "outputs": [],
   "source": [
    "a = 2\n",
    "b = 1.1\n",
    "loc = 0\n",
    "scale = 1\n",
    "x1 = np.arange(-1, 2.1, 0.1)\n",
    "y = beta.cdf(x1,a,b,loc,scale)\n",
    "print(y)"
   ]
  },
  {
   "cell_type": "markdown",
   "metadata": {},
   "source": [
    "Зобразіть графічно значення функції розподілу бета розподілу з параметрами $a, b, loc, scale$ в точках вектора $x2$."
   ]
  },
  {
   "cell_type": "code",
   "execution_count": 22,
   "metadata": {},
   "outputs": [],
   "source": [
    "x2 = np.arange(-1, 2.01, 0.01)\n",
    "y = beta.cdf(x2,a,b,loc,scale)\n",
    "plt.plot(x2,y, 'g')\n",
    "plt.show()"
   ]
  },
  {
   "cell_type": "markdown",
   "metadata": {},
   "source": [
    "### 2.3 Випадкові величини"
   ]
  },
  {
   "cell_type": "markdown",
   "metadata": {},
   "source": [
    "Згенеруйте $100$ випадкових величин з бета розподілу з параметрами $a, b, loc, scale$."
   ]
  },
  {
   "cell_type": "code",
   "execution_count": 23,
   "metadata": {},
   "outputs": [],
   "source": [
    "a = 2\n",
    "b = 1.1\n",
    "loc = 0\n",
    "scale = 1\n",
    "y = beta.rvs(a,b,loc,scale,size = 100)\n",
    "print(y)\n"
   ]
  },
  {
   "cell_type": "markdown",
   "metadata": {},
   "source": [
    "Зобразіть гістограму $10000$ випадкових величин з бета розподілу з параметрами $a, b, loc, scale$."
   ]
  },
  {
   "cell_type": "code",
   "execution_count": 24,
   "metadata": {},
   "outputs": [],
   "source": [
    "y = beta.rvs(a,b,loc,scale, size=10000)\n",
    "plt.hist(y, color ='r')\n",
    "plt.show()"
   ]
  },
  {
   "cell_type": "markdown",
   "metadata": {},
   "source": [
    "Зобразіть графік функції щільності та нормовану гістограму $100000$ випадкових величин з бета розподілу з параметрами $a, b, loc, scale$. Поексперементуйте з аргументом $bins$ функції `hist`."
   ]
  },
  {
   "cell_type": "code",
   "execution_count": 25,
   "metadata": {
    "scrolled": true
   },
   "outputs": [],
   "source": [
    "fig, axs = plt.subplots(1,1, figsize=(15,5))\n",
    "a = 2\n",
    "b = 1.1\n",
    "loc = 0\n",
    "scale = 1\n",
    "y = beta.pdf(x, a, b, loc, scale)\n",
    "y1 = beta.rvs(a,b,loc,scale, size=100000)\n",
    "\n",
    "axs.plot(x, y, 'y')\n",
    "axs.hist(y1, normed=True, bins=200)\n",
    "axs.set_xlim(-0.2, 1.2)\n",
    "plt.show()\n"
   ]
  },
  {
   "cell_type": "markdown",
   "metadata": {},
   "source": [
    "## 3 Різні параметри"
   ]
  },
  {
   "cell_type": "markdown",
   "metadata": {},
   "source": [
    "### 3.1 Рівномірний розподіл"
   ]
  },
  {
   "cell_type": "markdown",
   "metadata": {},
   "source": [
    "Зобразіть графічно функцію щільності, функцію розподілу та нормовану гістограму $100000$ випадкових величин з параметром `bins=50` разом з функцією щільності рівномірного розподілу з параметрами:\n",
    "1. $a = 0, b = 2$\n",
    "2. $a = 0, b = 5$\n",
    "3. $a = 0, b = 10$\n",
    "4. $a = -2, b = 2$\n",
    "5. $a = -5, b = 5$\n",
    "\n",
    "Зробіть шкали на відповідних графіках однаковими для кращого порівняння. Наприклад, усі графіки щільності повинні мати однакові границі як по осі $x$, так і по осі $y$."
   ]
  },
  {
   "cell_type": "code",
   "execution_count": 26,
   "metadata": {
    "scrolled": false
   },
   "outputs": [],
   "source": [
    "# Місце для Вашого коду\n",
    "import numpy as np\n",
    "import matplotlib.pyplot as plt\n",
    "from scipy.stats import uniform\n",
    "\n",
    "p = [[0,2], [0,5], [0,10], [-2,2], [-5,5]]\n",
    "for i, j in p:\n",
    "    a = i\n",
    "    b = j\n",
    "    loc = a\n",
    "    scale = b - loc\n",
    "    fig, axs = plt.subplots(1,3, figsize=(20,5))\n",
    "    x = np.arange(-1, 2, 0.01)\n",
    "    y = uniform.pdf(x, loc, scale)\n",
    "     \n",
    "    axs[0].plot(x,y, 'r')\n",
    "    axs[0].set_ylim(0,1)\n",
    "    axs[0].set_xlim(-1,2)\n",
    "    axs[0].set_title('pdf function for a = {}, b = {}'.format(i,j))\n",
    "     \n",
    "    \n",
    "    y1 = uniform.cdf(x, loc, scale)\n",
    "    fig = plt.figure(figsize=(20,5))\n",
    "     \n",
    "    axs[1].plot(x,y1, 'y')\n",
    "    axs[1].set_xlim(-1,2)\n",
    "    axs[1].set_title('cdf function for a = {}, b = {}'.format(i,j))\n",
    "     \n",
    "    \n",
    "    y = uniform.pdf(x,loc,scale)\n",
    "    y2 = uniform.rvs(loc ,scale ,size = 100000)\n",
    "     \n",
    "     \n",
    "    axs[2].hist(y2,normed = True,bins = 50)\n",
    "    axs[2].plot(x,y,'g')\n",
    "    axs[2].set_title('hist and pdf function for a = {}, b = {}'.format(i,j))\n",
    "     \n",
    "    plt.show()\n"
   ]
  },
  {
   "cell_type": "markdown",
   "metadata": {},
   "source": [
    "### 3.2 Експоненційний розподіл"
   ]
  },
  {
   "cell_type": "markdown",
   "metadata": {},
   "source": [
    "Зобразіть графічно функцію щільності, функцію розподілу та нормовану гістограму $100000$ випадкових величин з параметром `bins=50` разом з функцією щільності експоненційного розподілу з параметрами:\n",
    "1. $\\lambda = 0.1$\n",
    "2. $\\lambda = 0.2$\n",
    "3. $\\lambda = 0.3$\n",
    "4. $\\lambda = 0.4$\n",
    "5. $\\lambda = 0.5$\n",
    "6. $\\lambda = 0.6$\n",
    "7. $\\lambda = 0.7$\n",
    "8. $\\lambda = 0.8$\n",
    "9. $\\lambda = 0.9$\n",
    "\n",
    "Зробіть шкали на відповідних графіках однаковими для кращого порівняння. Наприклад, усі графіки щільності повинні мати однакові границі як по осі $x$, так і по осі $y$."
   ]
  },
  {
   "cell_type": "code",
   "execution_count": 27,
   "metadata": {
    "scrolled": false
   },
   "outputs": [],
   "source": [
    "import numpy as np\n",
    "import matplotlib.pyplot as plt\n",
    "from scipy.stats import expon\n",
    "\n",
    "x = np.arange(-1, 20, 0.01)\n",
    "p = [0.1, 0.2, 0.3, 0.4, 0.5, 0.6, 0.7, 0.8,0.9]\n",
    "\n",
    "for i in p:\n",
    "    lmd = i\n",
    "    loc = 0\n",
    "    scale = 1/lmd\n",
    "    fig, axs = plt.subplots(1,3, figsize=(20,5))\n",
    "    y = expon.pdf(x, loc=loc, scale=scale)\n",
    "    axs[0].plot(x,y, 'y')\n",
    "    axs[0].set_title('pdf for lambda = {}'.format(i))\n",
    "    axs[0].set_ylim(0, 1)\n",
    "     \n",
    "    y1 = expon.cdf(x, loc=loc, scale=scale)\n",
    "    axs[1].plot(x,y1, 'g')\n",
    "    axs[1].set_title('cdf for lambda = {}'.format(i))\n",
    "    axs[1].set_ylim(0, 1)\n",
    "     \n",
    "    y = uniform.pdf(x,loc,scale)\n",
    "    y2 = expon.rvs(loc,scale, size=10000)\n",
    "    \n",
    "    axs[2].plot(x,y, 'r')\n",
    "    axs[2].hist(y2,normed = True,bins = 50)\n",
    "    axs[2].set_title('hist for lambda = {}'.format(i))\n",
    "    axs[2].set_xlim(-1, 20)\n",
    "    axs[2].set_ylim(0, 1)\n",
    "\n",
    "    plt.show()"
   ]
  },
  {
   "cell_type": "markdown",
   "metadata": {},
   "source": [
    "### 3.3 Нормальний розподіл"
   ]
  },
  {
   "cell_type": "markdown",
   "metadata": {},
   "source": [
    "Зобразіть графічно функцію щільності, функцію розподілу та нормовану гістограму $100000$ випадкових величин з параметром `bins=50` разом з функцією щільності нормального розподілу з параметрами:\n",
    "1. $\\mu = 0, \\sigma = 0.5$\n",
    "2. $\\mu = 0, \\sigma = 2$\n",
    "3. $\\mu = 0, \\sigma = 4$\n",
    "4. $\\mu = 0, \\sigma = 1$\n",
    "5. $\\mu = -2, \\sigma = 1$\n",
    "6. $\\mu = 2, \\sigma = 1$\n",
    "\n",
    "Зробіть шкали на відповідних графіках однаковими для кращого порівняння. Наприклад, усі графіки щільності повинні мати однакові границі як по осі $x$, так і по осі $y$."
   ]
  },
  {
   "cell_type": "code",
   "execution_count": 28,
   "metadata": {
    "scrolled": false
   },
   "outputs": [],
   "source": [
    "# Місце для Вашого коду\n",
    "import numpy as np\n",
    "import matplotlib.pyplot as plt\n",
    "from scipy.stats import norm\n",
    "\n",
    "x = np.arange(-5, 5, 0.01)\n",
    "p = [[0, 0.5], [0, 2], [0, 4], [0, 1], [-2, 1], [2, 1]]\n",
    "\n",
    "for i, j in p:\n",
    "    \n",
    "    fig, axs = plt.subplots(1,3, figsize=(20,5))\n",
    "    y = norm.pdf(x, i, j)\n",
    "    axs[0].plot(x,y, 'y')\n",
    "    axs[0].set_title('pdf  for parameters = {}; {}'.format(i,j))\n",
    "    axs[0].set_ylim(0, 1)\n",
    "     \n",
    "    y1 = norm.cdf(x, i, j)\n",
    "    axs[1].plot(x,y1, 'r')\n",
    "    axs[1].set_title('cdf  for parameters = {}; {}'.format(i,j))\n",
    "    axs[1].set_ylim(0, 1)\n",
    "     \n",
    "    y = norm.pdf(x,loc,scale)\n",
    "    y2 = norm.rvs(i,j, size=100000)\n",
    "    axs[2].plot(x,y, 'g')\n",
    "    axs[2].hist(y2,normed = True,bins = 50)\n",
    "    axs[2].set_title('hist for parameters = {}; {}'.format(i, j))\n",
    "    axs[2].set_xlim(-5, 5)\n",
    "    axs[2].set_ylim(0, 1)\n",
    "     \n",
    "    plt.show()\n"
   ]
  },
  {
   "cell_type": "markdown",
   "metadata": {},
   "source": [
    "### 3.4 Гамма розподіл"
   ]
  },
  {
   "cell_type": "markdown",
   "metadata": {},
   "source": [
    "Зобразіть графічно функцію щільності, функцію розподілу та нормовану гістограму $100000$ випадкових величин з параметром `bins=50` разом з функцією щільності гамма розподілу з параметрами:\n",
    "1. $\\alpha = 0.25$\n",
    "2. $\\alpha = 0.5$\n",
    "3. $\\alpha = 0.75$\n",
    "4. $\\alpha = 1$\n",
    "5. $\\alpha = 1.5$\n",
    "6. $\\alpha = 2$\n",
    "7. $\\alpha = 3$\n",
    "8. $\\alpha = 5$\n",
    "9. $\\alpha = 10$\n",
    "\n",
    "Зробіть шкали на відповідних графіках однаковими для кращого порівняння. Наприклад, усі графіки щільності повинні мати однакові границі як по осі $x$, так і по осі $y$."
   ]
  },
  {
   "cell_type": "code",
   "execution_count": 29,
   "metadata": {
    "scrolled": false
   },
   "outputs": [],
   "source": [
    "# Місце для Вашого коду\n",
    "\n",
    "import numpy as np\n",
    "import matplotlib.pyplot as plt\n",
    "from scipy.stats import gamma\n",
    "\n",
    "x = np.arange(-0.5, 10, 0.01)\n",
    "loc = 0\n",
    "scale = 1\n",
    "a = [0.25, 0.5, 0.75, 1, 1.5, 2, 3, 5, 10]\n",
    "for i in a:\n",
    "    fig, axs = plt.subplots(1,3, figsize=(20,5))\n",
    "    y = gamma.pdf(x, i, loc,scale)\n",
    "    axs[0].plot(x,y, 'y')\n",
    "    axs[0].set_title('pdf, for alpha = {}'.format(i))\n",
    "    axs[0].set_ylim(0, 1)\n",
    "     \n",
    "    y1 = gamma.cdf(x, i, loc,scale)\n",
    "    axs[1].plot(x,y1, 'r')\n",
    "    axs[1].set_title('cdf, for alpha = {}'.format(i))\n",
    "    axs[1].set_ylim(0, 1)\n",
    "     \n",
    "    y = gamma.pdf(x,loc,scale)\n",
    "    y2 = gamma.rvs(i,loc, scale, size=100000)\n",
    "    axs[2].plot(x,y, 'g')\n",
    "    axs[2].hist(y2,normed = True,bins = 50)\n",
    "    axs[2].set_title('hist for alpha = {}'.format(i))\n",
    "    axs[2].set_xlim(-0.5, 10)\n",
    "    axs[2].set_ylim(0, 1)\n",
    "     \n",
    "    plt.show()"
   ]
  },
  {
   "cell_type": "markdown",
   "metadata": {},
   "source": [
    "### 3.5 Логнормальний розподіл"
   ]
  },
  {
   "cell_type": "markdown",
   "metadata": {},
   "source": [
    "Зобразіть графічно функцію щільності, функцію розподілу та нормовану гістограму $100000$ випадкових величин з параметром `bins=200` разом з функцією щільності логнормального розподілу з такими параметрами відповідного нормального розподілу:\n",
    "1. $\\mu = 0, \\sigma = 0.5$\n",
    "2. $\\mu = 0, \\sigma = 1.5$\n",
    "3. $\\mu = 0, \\sigma = 2$\n",
    "4. $\\mu = 0, \\sigma = 1$\n",
    "5. $\\mu = -1, \\sigma = 1$\n",
    "6. $\\mu = 1, \\sigma = 1$\n",
    "\n",
    "Зробіть шкали на відповідних графіках однаковими для кращого порівняння. Наприклад, усі графіки щільності повинні мати однакові границі як по осі $x$, так і по осі $y$."
   ]
  },
  {
   "cell_type": "code",
   "execution_count": 30,
   "metadata": {
    "scrolled": false
   },
   "outputs": [],
   "source": [
    "# Місце для Вашого коду\n",
    "import numpy as np\n",
    "import matplotlib.pyplot as plt\n",
    "from scipy.stats import lognorm\n",
    "\n",
    "x = np.arange(-0.5, 6, 0.01)\n",
    "loc = 0\n",
    "p = [[0, 0.5], [0, 1.5], [0, 2], [0, 1], [-1, 1], [1, 1]]\n",
    " \n",
    "for i, j in p: \n",
    "    fig, axs = plt.subplots(1,3, figsize=(20,5))\n",
    "    scale = np.exp(i)\n",
    "    y = lognorm.pdf(x, j, loc,scale)\n",
    "    axs[0].plot(x,y, 'y')\n",
    "    axs[0].set_title('pdf for parametrs= {}; {}'.format(i,j))\n",
    "    axs[0].set_xlim(-0.5, 6)\n",
    "    axs[0].set_ylim(0, 1)\n",
    "     \n",
    "    y1 = lognorm.cdf(x, j, loc,scale)\n",
    "    axs[1].plot(x,y1, 'r')\n",
    "    axs[1].set_title('cdf for parametrs = {}; {}'.format(i,j))\n",
    "    axs[1].set_xlim(-0.5, 6)\n",
    "    axs[1].set_ylim(0, 1)\n",
    "    \n",
    "    y = lognorm.pdf(x,j,loc,scale)\n",
    "    y2 = lognorm.rvs(j,loc, scale, size=100000)\n",
    "    axs[2].plot(x,y, 'g')\n",
    "    axs[2].hist(y2,normed = True,bins = 200)\n",
    "    axs[2].set_title('hist for parametrs = {};{}'.format(i,j))\n",
    "    axs[2].set_xlim(-0.5, 6)\n",
    "    axs[2].set_ylim(0, 1)\n",
    "    \n",
    "    plt.show()"
   ]
  },
  {
   "cell_type": "markdown",
   "metadata": {},
   "source": [
    "### 3.6 Бета розподіл"
   ]
  },
  {
   "cell_type": "markdown",
   "metadata": {},
   "source": [
    "Зобразіть графічно функцію щільності, функцію розподілу та нормовану гістограму $100000$ випадкових величин з параметром `bins=50` разом з функцією щільності бета розподілу з параметрами:\n",
    "1. $\\alpha = 0.5, \\beta = 2$\n",
    "2. $\\alpha = 0.5, \\beta = 1.5$\n",
    "3. $\\alpha = 0.5, \\beta = 0.5$\n",
    "4. $\\alpha = 0.5, \\beta = 1$\n",
    "5. $\\alpha = 1, \\beta = 1$\n",
    "6. $\\alpha = 1, \\beta = 0.5$\n",
    "7. $\\alpha = 1, \\beta = 1.5$\n",
    "8. $\\alpha = 1, \\beta = 2$\n",
    "9. $\\alpha = 2, \\beta = 2$\n",
    "10. $\\alpha = 2, \\beta = 5$\n",
    "11. $\\alpha = 5, \\beta = 2$\n",
    "12. $\\alpha = 10, \\beta = 10$\n",
    "\n",
    "Зробіть шкали на відповідних графіках однаковими для кращого порівняння. Наприклад, усі графіки щільності повинні мати однакові границі як по осі $x$, так і по осі $y$."
   ]
  },
  {
   "cell_type": "code",
   "execution_count": 31,
   "metadata": {
    "scrolled": false
   },
   "outputs": [],
   "source": [
    "# Місце для Вашого коду\n",
    "import numpy as np\n",
    "import matplotlib.pyplot as plt\n",
    "from scipy.stats import beta\n",
    "\n",
    "loc = 0\n",
    "scale = 1\n",
    "x = np.arange(-0.5, 2, 0.01)\n",
    "p = [[0.5, 2], [0.5, 1.5], [0.5, 0.5], [0.5, 1], [1, 1], [1, 0.5], [1, 1.5], [1, 2], [2, 2], [2, 5], [5, 2], [10, 10]]\n",
    "\n",
    "for i, j in p: \n",
    "    fig, axs = plt.subplots(1,3, figsize=(20,5))\n",
    "    y = beta.pdf(x,i, j, loc,scale)\n",
    "    axs[0].plot(x,y, 'y')\n",
    "    axs[0].set_title('pdf for parametrs= {}, {}'.format(i,j))\n",
    "    axs[0].set_xlim(-0.5, 2)\n",
    "    axs[0].set_ylim(0, 2)\n",
    "     \n",
    "    y1 = beta.cdf(x, i,j, loc,scale)\n",
    "    axs[1].plot(x,y1, 'r')\n",
    "    axs[1].set_title('cdf for parametrs = {}, {}'.format(i,j))\n",
    "    axs[1].set_xlim(-0.5, 2)\n",
    "    axs[1].set_ylim(0, 2)\n",
    "    \n",
    "    y = beta.pdf(x,i,j,loc,scale)\n",
    "    y2 = beta.rvs(i,j,loc, scale, size=100000)\n",
    "    axs[2].plot(x,y, 'g')\n",
    "    axs[2].hist(y2,normed = True,bins = 200)\n",
    "    axs[2].set_title('hist for alpha = {}, {}'.format(i,j))\n",
    "    axs[2].set_xlim(-0.5, 2)\n",
    "    axs[2].set_ylim(0, 2)\n",
    "    \n",
    "    plt.show()"
   ]
  },
  {
   "cell_type": "markdown",
   "metadata": {
    "collapsed": true
   },
   "source": [
    "## 4 Апроксимація біноміального розподілу нормальним розподілом"
   ]
  },
  {
   "cell_type": "markdown",
   "metadata": {},
   "source": [
    "Покажіть схожість біноміального розподілу та нормального розподілу з відповідними параметрами:\n",
    "- $n = 100, p = 0.05$\n",
    "- $n = 100, p = 0.1$\n",
    "- $n = 100, p = 0.15$\n",
    "- $n = 100, p = 0.2$\n",
    "- $n = 100, p = 0.35$\n",
    "- $n = 100, p = 0.5$\n",
    "- $n = 100, p = 0.75$\n",
    "\n",
    "Зобразіть графіки їх функцій щільності (обидві функції на одному графіку) та функцій розподілу (обидві функції на другому графіку) на двох сабплотах в одному рядку.\n",
    "\n",
    "**Зауваження.** Математичне сподівання та дисперсія відповідного нормального розподілу збігається з математичним сподіванням та дисперсією біноміального розподілу."
   ]
  },
  {
   "cell_type": "code",
   "execution_count": 32,
   "metadata": {
    "scrolled": false
   },
   "outputs": [],
   "source": [
    "# Місце для Вашого коду\n",
    "from scipy.stats import norm\n",
    "from scipy.stats import binom\n",
    "p = [[100,0.05], [100,0.1], [100,0.15], [100,0.2], [100,0.35], [100,0.5], [100,0.75]]\n",
    " \n",
    "for n,i in p:\n",
    "    x = np.arange(0, n+1,0.01)\n",
    "    fig, axs = plt.subplots(1,2, figsize=(20,5))\n",
    "    y = binom.pmf(x,n,i)\n",
    "    y1  = binom.cdf(x,n,i)\n",
    "\n",
    "    axs[0].plot(x, norm.pdf(x, n*i), 'g')\n",
    "    axs[0].plot (x,y, 'r')\n",
    "    axs[0].set_title('pdf for n = {}, i = {}'.format(n, i))\n",
    "    axs[0].set_xlim(-0.2,80)\n",
    "    axs[0].set_ylim(0,1.5)\n",
    "    \n",
    "    axs[1].plot(x, norm.cdf(x, n*i), 'g')\n",
    "    axs[1].plot (x,y1,'y')\n",
    "    axs[1].set_title('cdf for n = {}, i = {}'.format(n, i))\n",
    "    axs[1].set_xlim(-0.2,80)\n",
    "    axs[1].set_ylim(0,1.5)\n",
    "    \n",
    "    plt.show()"
   ]
  },
  {
   "cell_type": "markdown",
   "metadata": {
    "collapsed": true
   },
   "source": [
    "## 5 Апроксимація числа $\\pi$"
   ]
  },
  {
   "cell_type": "markdown",
   "metadata": {},
   "source": [
    "Розглянемо квадрат зі стороною $2a$. Нехай коло радіуса $a$ вписане в цей квадрат. Якщо вибрати точку рівномірно з цього квадрата, то ймовірність, що ця точка також належить і вписаному колу, дорівнює відношенню площ кола та квадрата, тобто $\\pi a^2/(2a)^2 = \\pi/4$.\n",
    "\n",
    "Реалізуйте функцію емпіричної апроксимації числа $\\pi$ за $n$ симуляцій (вибору $n$ випадкових точок з квадрата). Зобразіть графічно отримані елементи: квадрат, коло, випадкові точки. Виділіть точки, що належать колу, окремим кольором від інших точок.\n",
    "\n",
    "Нехай $a = 1$. Виведіть результат функції для:\n",
    "1. $n = 10$\n",
    "2. $n = 100$\n",
    "3. $n = 500$\n",
    "4. $n = 1000$\n",
    "5. $n = 2000$"
   ]
  },
  {
   "cell_type": "code",
   "execution_count": 3,
   "metadata": {
    "scrolled": false
   },
   "outputs": [
    {
     "ename": "NameError",
     "evalue": "name 'type_check' is not defined",
     "output_type": "error",
     "traceback": [
      "\u001b[1;31m---------------------------------------------------------------------------\u001b[0m",
      "\u001b[1;31mNameError\u001b[0m                                 Traceback (most recent call last)",
      "\u001b[1;32m<ipython-input-3-c714f351cfdf>\u001b[0m in \u001b[0;36m<module>\u001b[1;34m\u001b[0m\n\u001b[0;32m      1\u001b[0m \u001b[1;31m# Місце для Вашого коду\u001b[0m\u001b[1;33m\u001b[0m\u001b[1;33m\u001b[0m\u001b[1;33m\u001b[0m\u001b[0m\n\u001b[1;32m----> 2\u001b[1;33m \u001b[1;32mimport\u001b[0m \u001b[0mnumpy\u001b[0m \u001b[1;32mas\u001b[0m \u001b[0mnp\u001b[0m\u001b[1;33m\u001b[0m\u001b[1;33m\u001b[0m\u001b[0m\n\u001b[0m\u001b[0;32m      3\u001b[0m \u001b[1;32mimport\u001b[0m \u001b[0mmatplotlib\u001b[0m\u001b[1;33m.\u001b[0m\u001b[0mpyplot\u001b[0m \u001b[1;32mas\u001b[0m \u001b[0mplt\u001b[0m\u001b[1;33m\u001b[0m\u001b[1;33m\u001b[0m\u001b[0m\n\u001b[0;32m      4\u001b[0m \u001b[1;32mfrom\u001b[0m \u001b[0mscipy\u001b[0m\u001b[1;33m.\u001b[0m\u001b[0mstats\u001b[0m \u001b[1;32mimport\u001b[0m \u001b[0mbeta\u001b[0m\u001b[1;33m\u001b[0m\u001b[1;33m\u001b[0m\u001b[0m\n\u001b[0;32m      5\u001b[0m \u001b[0mn\u001b[0m\u001b[1;33m=\u001b[0m\u001b[1;33m[\u001b[0m\u001b[1;36m10\u001b[0m\u001b[1;33m,\u001b[0m \u001b[1;36m100\u001b[0m\u001b[1;33m,\u001b[0m \u001b[1;36m500\u001b[0m\u001b[1;33m,\u001b[0m \u001b[1;36m1000\u001b[0m\u001b[1;33m,\u001b[0m \u001b[1;36m2000\u001b[0m\u001b[1;33m]\u001b[0m\u001b[1;33m\u001b[0m\u001b[1;33m\u001b[0m\u001b[0m\n",
      "\u001b[1;32mC:\\ProgramData\\Anaconda3\\lib\\site-packages\\numpy\\__init__.py\u001b[0m in \u001b[0;36m<module>\u001b[1;34m\u001b[0m\n\u001b[0;32m    140\u001b[0m         \u001b[1;32mreturn\u001b[0m \u001b[0mloader\u001b[0m\u001b[1;33m(\u001b[0m\u001b[1;33m*\u001b[0m\u001b[0mpackages\u001b[0m\u001b[1;33m,\u001b[0m \u001b[1;33m**\u001b[0m\u001b[0moptions\u001b[0m\u001b[1;33m)\u001b[0m\u001b[1;33m\u001b[0m\u001b[1;33m\u001b[0m\u001b[0m\n\u001b[0;32m    141\u001b[0m \u001b[1;33m\u001b[0m\u001b[0m\n\u001b[1;32m--> 142\u001b[1;33m     \u001b[1;32mfrom\u001b[0m \u001b[1;33m.\u001b[0m \u001b[1;32mimport\u001b[0m \u001b[0madd_newdocs\u001b[0m\u001b[1;33m\u001b[0m\u001b[1;33m\u001b[0m\u001b[0m\n\u001b[0m\u001b[0;32m    143\u001b[0m     __all__ = ['add_newdocs',\n\u001b[0;32m    144\u001b[0m                \u001b[1;34m'ModuleDeprecationWarning'\u001b[0m\u001b[1;33m,\u001b[0m\u001b[1;33m\u001b[0m\u001b[1;33m\u001b[0m\u001b[0m\n",
      "\u001b[1;32mC:\\ProgramData\\Anaconda3\\lib\\site-packages\\numpy\\add_newdocs.py\u001b[0m in \u001b[0;36m<module>\u001b[1;34m\u001b[0m\n\u001b[0;32m     11\u001b[0m \u001b[1;32mfrom\u001b[0m \u001b[0m__future__\u001b[0m \u001b[1;32mimport\u001b[0m \u001b[0mdivision\u001b[0m\u001b[1;33m,\u001b[0m \u001b[0mabsolute_import\u001b[0m\u001b[1;33m,\u001b[0m \u001b[0mprint_function\u001b[0m\u001b[1;33m\u001b[0m\u001b[1;33m\u001b[0m\u001b[0m\n\u001b[0;32m     12\u001b[0m \u001b[1;33m\u001b[0m\u001b[0m\n\u001b[1;32m---> 13\u001b[1;33m \u001b[1;32mfrom\u001b[0m \u001b[0mnumpy\u001b[0m\u001b[1;33m.\u001b[0m\u001b[0mlib\u001b[0m \u001b[1;32mimport\u001b[0m \u001b[0madd_newdoc\u001b[0m\u001b[1;33m\u001b[0m\u001b[1;33m\u001b[0m\u001b[0m\n\u001b[0m\u001b[0;32m     14\u001b[0m \u001b[1;33m\u001b[0m\u001b[0m\n\u001b[0;32m     15\u001b[0m \u001b[1;31m###############################################################################\u001b[0m\u001b[1;33m\u001b[0m\u001b[1;33m\u001b[0m\u001b[1;33m\u001b[0m\u001b[0m\n",
      "\u001b[1;32mC:\\ProgramData\\Anaconda3\\lib\\site-packages\\numpy\\lib\\__init__.py\u001b[0m in \u001b[0;36m<module>\u001b[1;34m\u001b[0m\n\u001b[0;32m     30\u001b[0m \u001b[1;33m\u001b[0m\u001b[0m\n\u001b[0;32m     31\u001b[0m \u001b[0m__all__\u001b[0m \u001b[1;33m=\u001b[0m \u001b[1;33m[\u001b[0m\u001b[1;34m'emath'\u001b[0m\u001b[1;33m,\u001b[0m \u001b[1;34m'math'\u001b[0m\u001b[1;33m,\u001b[0m \u001b[1;34m'tracemalloc_domain'\u001b[0m\u001b[1;33m]\u001b[0m\u001b[1;33m\u001b[0m\u001b[1;33m\u001b[0m\u001b[0m\n\u001b[1;32m---> 32\u001b[1;33m \u001b[0m__all__\u001b[0m \u001b[1;33m+=\u001b[0m \u001b[0mtype_check\u001b[0m\u001b[1;33m.\u001b[0m\u001b[0m__all__\u001b[0m\u001b[1;33m\u001b[0m\u001b[1;33m\u001b[0m\u001b[0m\n\u001b[0m\u001b[0;32m     33\u001b[0m \u001b[0m__all__\u001b[0m \u001b[1;33m+=\u001b[0m \u001b[0mindex_tricks\u001b[0m\u001b[1;33m.\u001b[0m\u001b[0m__all__\u001b[0m\u001b[1;33m\u001b[0m\u001b[1;33m\u001b[0m\u001b[0m\n\u001b[0;32m     34\u001b[0m \u001b[0m__all__\u001b[0m \u001b[1;33m+=\u001b[0m \u001b[0mfunction_base\u001b[0m\u001b[1;33m.\u001b[0m\u001b[0m__all__\u001b[0m\u001b[1;33m\u001b[0m\u001b[1;33m\u001b[0m\u001b[0m\n",
      "\u001b[1;31mNameError\u001b[0m: name 'type_check' is not defined"
     ]
    }
   ],
   "source": [
    "# Місце для Вашого коду\n",
    "import numpy as np\n",
    "import matplotlib.pyplot as plt\n",
    "from scipy.stats import beta\n",
    "n=[10, 100, 500, 1000, 2000]\n",
    "a = 1\n",
    "loc = 0\n",
    "scale = 2*a\n",
    "x = np.arange(0, 2*a, 0.001)\n",
    "\n",
    "for i in n:\n",
    "    print(\"n =\",i)\n",
    "    circle = 0\n",
    "    square = 0\n",
    "    plt.figure(figsize=(10, 10))\n",
    "    plt.subplot(1, 1, 1)\n",
    "    plt.plot(x, 1 + np.sqrt(a**2 - (x-1)**2), 'p')\n",
    "    plt.plot(x, 1 - np.sqrt(a**2 - (x-1)**2), 'p')\n",
    "    for j in range(i):\n",
    "        y = uniform.rvs(loc=loc, scale=scale, size=2)\n",
    "        if (y[0] - 1) ** 2 + (y[1] - 1) ** 2 <= a ** 2:\n",
    "            circle += 1\n",
    "            square += 1\n",
    "            plt.plot([y[0]], [y[1]], 'ro')\n",
    "        else:\n",
    "            square += 1\n",
    "            plt.plot([y[0]], [y[1]], 'ko')\n",
    "    plt.show()\n",
    "    print(f'π ≈ {4 * circle / square}')\n"
   ]
  },
  {
   "cell_type": "code",
   "execution_count": null,
   "metadata": {},
   "outputs": [],
   "source": []
  }
 ],
 "metadata": {
  "kernelspec": {
   "display_name": "Python 3",
   "language": "python",
   "name": "python3"
  },
  "language_info": {
   "codemirror_mode": {
    "name": "ipython",
    "version": 3
   },
   "file_extension": ".py",
   "mimetype": "text/x-python",
   "name": "python",
   "nbconvert_exporter": "python",
   "pygments_lexer": "ipython3",
   "version": "3.7.1"
  }
 },
 "nbformat": 4,
 "nbformat_minor": 1
}
