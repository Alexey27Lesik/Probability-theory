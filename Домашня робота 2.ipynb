{
 "cells": [
  {
   "cell_type": "markdown",
   "metadata": {},
   "source": [
    "# Домашня робота №2"
   ]
  },
  {
   "cell_type": "markdown",
   "metadata": {},
   "source": [
    "## 1 Пароль\n",
    "Напишіть програму (функцію) для генерування випадкового пароля з такими обмеженнями:\n",
    "- пароль складається з рівно $10$ символів\n",
    "- пароль містить хоча б одну маленьку латинську літеру [a-z]\n",
    "- пароль містить хоча б одну велику латинську літеру [A-Z]\n",
    "- пароль містить хоча б одну цифру [0-9]\n",
    "- пароль містить хоча б один спеціальний символ [~!@#$%^&*()-_+=\\/{}[].,?<>:;]"
   ]
  },
  {
   "cell_type": "code",
   "execution_count": 3,
   "metadata": {},
   "outputs": [
    {
     "name": "stdout",
     "output_type": "stream",
     "text": [
      "Dfs&1Hbw*2"
     ]
    }
   ],
   "source": [
    "# Місце для Вашого коду\n",
    "import numpy as np\n",
    "a = [\"~\",\"!\",\"@\",\"#\",\"$\",\"%\",\"^\",\"&\",\"*\",\"(\",\")\",\"-\",\"_\",\"+\",\"=\",\"/\",\"{\",\"}\",\"[\",\"]\",\".\",\",\",\"?\",\"<\",\">\",\":\",\";\"]\n",
    "for i in range(1,3):\n",
    "    print(chr(np.random.randint(65, 92)), end='')\n",
    "    print(chr(np.random.randint(97, 124)), end='')\n",
    "    print(chr(np.random.randint(97, 124)), end='')\n",
    "    print(np.random.choice(a), end='')\n",
    "    print(np.random.randint(10), end='')\n"
   ]
  },
  {
   "cell_type": "markdown",
   "metadata": {},
   "source": [
    "## 2 Герби в ряд\n",
    "Реалізуйте функцію для обчислення емпіричної та теоретичної імовірностей випадіння $k$ гербів (HEADS) підряд у серії з $n$ підкидань чесної монетки. Підрахуйте відповідні ймовірності для таких параметрів:\n",
    "- $k = 2, n = 10, 50, 100, 500, 1000, 5000, 10000$\n",
    "- $k = 3, n = 10, 50, 100, 500, 1000, 5000, 10000$\n",
    "\n",
    "**Зауваження.** Нехай $k = 2, n = 10$ та маємо таку послідовність результатів підкидання монети: $\\{ H, T, H, H, H, H, T, T, H, T \\}$. Тоді матимемо $3$ випадки випадіння двох гербів підряд та емпіричну ймовірність такої події $1/3$."
   ]
  },
  {
   "cell_type": "code",
   "execution_count": 18,
   "metadata": {},
   "outputs": [
    {
     "name": "stdout",
     "output_type": "stream",
     "text": [
      "k = 2, n = 10 emp_prob------ = 0.2, theor_prob-------- = 0.25;\n",
      "k = 2, n = 50 emp_prob------ = 0.3, theor_prob-------- = 0.25;\n",
      "k = 2, n = 100 emp_prob------ = 0.12, theor_prob-------- = 0.25;\n",
      "k = 2, n = 500 emp_prob------ = 0.232, theor_prob-------- = 0.25;\n",
      "k = 2, n = 1000 emp_prob------ = 0.247, theor_prob-------- = 0.25;\n",
      "k = 2, n = 5000 emp_prob------ = 0.2394, theor_prob-------- = 0.25;\n",
      "k = 2, n = 10000 emp_prob------ = 0.2508, theor_prob-------- = 0.25;\n",
      "k = 3, n = 10 emp_prob------ = 0.1, theor_prob-------- = 0.125;\n",
      "k = 3, n = 50 emp_prob------ = 0.02, theor_prob-------- = 0.125;\n",
      "k = 3, n = 100 emp_prob------ = 0.13, theor_prob-------- = 0.125;\n",
      "k = 3, n = 500 emp_prob------ = 0.102, theor_prob-------- = 0.125;\n",
      "k = 3, n = 1000 emp_prob------ = 0.128, theor_prob-------- = 0.125;\n",
      "k = 3, n = 5000 emp_prob------ = 0.133, theor_prob-------- = 0.125;\n",
      "k = 3, n = 10000 emp_prob------ = 0.1278, theor_prob-------- = 0.125;\n"
     ]
    }
   ],
   "source": [
    "import numpy as np\n",
    "\n",
    "\n",
    "def emp_prob(x):\n",
    "    k = 0\n",
    "    for i in range(len(x) - 1):\n",
    "        if (x[i] == x[i + 1] == 'H'):\n",
    "            k += 1\n",
    "    if k == 0:\n",
    "        return 0\n",
    "    a = k / len(x)\n",
    "\n",
    "    return a\n",
    "\n",
    "def emp_prob1(tos):\n",
    "    k = 0\n",
    "    for i in range(len(tos) - 2):\n",
    "        if (tos[i] == tos[i + 1] == tos[i + 2] == 'H'):\n",
    "            k += 1\n",
    "    if k == 0:\n",
    "        return 0\n",
    "    a = k / len(tos)\n",
    "\n",
    "    return a\n",
    "\n",
    "\n",
    "N = [10, 50, 100, 500, 1000, 5000, 10000]\n",
    "for i in N:\n",
    "    p = 0.5\n",
    "    m = np.random.choice([\"H\", \"T\"], p=[p, 1 - p], size=i)\n",
    "    t = list(m)\n",
    "    print(\"k = 2, n = {} emp_prob------ = {}, theor_prob-------- = {};\".format(i, emp_prob(t), 2 ** (i - 2) / (2 ** i)))\n",
    "\n",
    "for i in N:\n",
    "    p = 0.5\n",
    "    m1 = np.random.choice([\"H\", \"T\"], p=[p, 1 - p], size=i)\n",
    "    t1 = list(m1)\n",
    "    print(\"k = 3, n = {} emp_prob------ = {}, theor_prob-------- = {};\".format(i, emp_prob1(t1), 2 ** (i - 3) / (2 ** i)))\n"
   ]
  },
  {
   "cell_type": "markdown",
   "metadata": {},
   "source": [
    "## 3 Найбільше число\n",
    "Реалізуйте функцію підрахунку точної (теоретичної) імовірності того, що максимальне число після $n$ кидків звичайного грального кубика дорівнює $x\\_max$, для таких параметрів:\n",
    "- $n = 3, x\\_max = 6$\n",
    "- $n = 2, x\\_max = 3$\n",
    "- $n = 3, x\\_max = 5$\n",
    "\n",
    "Тобто, якщо $X_i, i = 1, \\ldots, n$, - число на $i$-му кидку кубика, а $X = \\max\\limits_{1 \\leq i \\leq n} X_i$, то потрібно знайти ймовірність $\\textbf{P} \\left( X = x\\_max \\right)$.\n",
    "\n",
    "Підрахуйте також емпіричні ймовірності відповідних подій у випадку $10000$ симуляцій.\n",
    "\n",
    "**Зауваження.** Якщо введені параметри не мають сенсу, то повертати $0$.\n",
    "Тобто, якщо вводиться $x\\_max < 1$ або $x\\_max > 6$."
   ]
  },
  {
   "cell_type": "code",
   "execution_count": 13,
   "metadata": {},
   "outputs": [
    {
     "name": "stdout",
     "output_type": "stream",
     "text": [
      "n = 3, x_max = 6\n",
      "Theor prob  0.4212962962962963\n",
      "Emp prob  0.4245\n",
      "n = 2, x_max = 3\n",
      "Theor prob  0.1388888888888889\n",
      "Emp prob  0.1369\n",
      "n = 3, x_max = 5\n",
      "Theor prob  0.2824074074074074\n",
      "Emp prob  0.2845\n"
     ]
    }
   ],
   "source": [
    "import numpy as np\n",
    "import itertools\n",
    "\n",
    "N = 10000\n",
    "H = [1, 2, 3, 4, 5 ,6]\n",
    "p = [[3 ,6], [2,3], [3,5]]\n",
    "\n",
    "def prob(n,x_max):\n",
    "    lst = list(itertools.product(H, repeat=n))\n",
    "    print('n = {}, x_max = {}'.format(n, x_max))\n",
    "    a = []\n",
    "    for x in lst:\n",
    "        if max(x) == x_max:\n",
    "            a.append(x)\n",
    "\n",
    "    return (len(a) / len(lst))\n",
    "\n",
    "for n, x_max in p:\n",
    "     if (x_max >=1) or (x_max<=6):\n",
    "        print('Theor prob ',prob(n,x_max))\n",
    "        b = [max(np.random.choice(H, size=n)) for i  in range(N)]\n",
    "        print('Emp prob ', (b.count(x_max)/N))\n",
    "     else:\n",
    "         print(0)"
   ]
  },
  {
   "cell_type": "markdown",
   "metadata": {},
   "source": [
    "## 4 Сума чисел\n",
    "Реалізуйте функцію підрахунку точної (теоретичної) імовірності того, що сума чисел після $n$ кидків звичайного грального кубика дорівнює $s$, для таких параметрів:\n",
    "- $n = 3, s = 13$\n",
    "- $n = 2, s = 5$\n",
    "- $n = 3, s = 7$\n",
    "\n",
    "Тобто, якщо $X_i, i = 1, \\ldots, n$, - число на $i$-му кидку кубика, а $X = \\sum\\limits_{i = 1}^{n} X_i$, то потрібно знайти ймовірність $\\textbf{P} \\left( X = s \\right)$.\n",
    "\n",
    "Підрахуйте також емпіричні ймовірності відповідних подій у випадку $10000$ симуляцій.\n",
    "\n",
    "**Зауваження.** Якщо введені параметри не мають сенсу, то повертати $0$.\n",
    "Наприклад, якщо при $n = 3$ вводиться $s < 3$ або $s > 18$."
   ]
  },
  {
   "cell_type": "code",
   "execution_count": 16,
   "metadata": {},
   "outputs": [
    {
     "name": "stdout",
     "output_type": "stream",
     "text": [
      "n = 3, sum = 13\n",
      "Our theoretical probability: ('Theoretical probability: ', 0.09722222222222222)\n",
      "Empirical probability: 0.1009\n",
      "n = 2, sum = 5\n",
      "Our theoretical probability: ('Theoretical probability: ', 0.1111111111111111)\n",
      "Empirical probability: 0.1143\n",
      "n = 3, sum = 7\n",
      "Our theoretical probability: ('Theoretical probability: ', 0.06944444444444445)\n",
      "Empirical probability: 0.0671\n"
     ]
    }
   ],
   "source": [
    "import itertools\n",
    "import numpy as np\n",
    "\n",
    "N = 10000\n",
    "H = [1,2,3,4,5,6]\n",
    "p = [[3, 13], [2, 5], [3, 7]]\n",
    "def prob(n, s):\n",
    "    lst = list(itertools.product(H, repeat=n))\n",
    "    print('n = {}, sum = {}'.format(n, s))\n",
    "    a = []\n",
    "    for x in lst:\n",
    "        if sum(x) == s:\n",
    "            a.append(x)\n",
    "\n",
    "    return ('Theoretical probability: ',(len(a) / len(lst)))\n",
    "\n",
    "for n, s in p:\n",
    "    if (s< n) or ( s > 6*n):\n",
    "        print(0)\n",
    "    else:\n",
    "        print('Our theoretical probability:',prob(n,s))\n",
    "        b = [sum(np.random.choice(H, size=n)) for i  in range(N)]\n",
    "        print('Empirical probability:', (b.count(s)/N))"
   ]
  },
  {
   "cell_type": "code",
   "execution_count": null,
   "metadata": {},
   "outputs": [],
   "source": []
  }
 ],
 "metadata": {
  "kernelspec": {
   "display_name": "Python 3",
   "language": "python",
   "name": "python3"
  },
  "language_info": {
   "codemirror_mode": {
    "name": "ipython",
    "version": 3
   },
   "file_extension": ".py",
   "mimetype": "text/x-python",
   "name": "python",
   "nbconvert_exporter": "python",
   "pygments_lexer": "ipython3",
   "version": "3.7.1"
  }
 },
 "nbformat": 4,
 "nbformat_minor": 1
}
